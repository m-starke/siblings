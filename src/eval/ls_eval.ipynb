{
 "cells": [
  {
   "cell_type": "markdown",
   "metadata": {},
   "source": [
    "# Evaluation of Large-Scale Sibling Scan Using various algorithms \n",
    "\n",
    "Versions and contact same as in siblings_ml.ipynb"
   ]
  },
  {
   "cell_type": "code",
   "execution_count": 1,
   "metadata": {
    "collapsed": true
   },
   "outputs": [],
   "source": [
    "import numpy as np\n",
    "import pandas as pd\n",
    "from sklearn.model_selection import train_test_split\n",
    "from sklearn.tree import DecisionTreeClassifier\n",
    "from sklearn.model_selection import cross_val_score\n",
    "from IPython.display import Image  \n",
    "import pandas\n",
    "import seaborn\n",
    "import matplotlib.pyplot as plt\n",
    "%matplotlib inline"
   ]
  },
  {
   "cell_type": "code",
   "execution_count": 2,
   "metadata": {},
   "outputs": [],
   "source": [
    "def get_pd_files(folder):\n",
    "    sibf = folder + \"hosts.csvcapture.pcap.ts.siblingresult.csv\"\n",
    "    nonsibf = folder + \"hosts.csv__nonsiblings_seed1_n*capture.pcap.ts.siblingresult.csv\"\n",
    "    import glob\n",
    "    for filename in glob.glob(nonsibf):\n",
    "        nonsibf = filename\n",
    "    import os.path\n",
    "    if os.path.isfile(sibf) and os.path.isfile(nonsibf):\n",
    "        print(\"Loading from filenames {} and {}\".format(sibf, nonsibf))\n",
    "    else:\n",
    "        print(\"Files not found {} and {}\".format(sibf, nonsibf))\n",
    "        \n",
    "    sib = pd.read_csv(sibf, index_col=0)\n",
    "    sib['label'] = 1\n",
    "    nonsib = pd.read_csv(nonsibf, index_col=0)\n",
    "    nonsib['label'] = 0\n",
    "    print(\"Read {} siblings and {} non-siblings from files.\".format(len(sib), len(nonsib)))\n",
    "    return sib, nonsib\n",
    "       \n",
    "def dec2prd_ours(df):\n",
    "    df.loc[df[\"decision\"].str.contains(\"^sibling\"), \"dec_prd\"] =  1\n",
    "    df.loc[df[\"decision\"].str.contains(\"^non-sibling\"), \"dec_prd\"] =  0\n",
    "    return  # df is changed in place so no returning necessary\n",
    "\n",
    "def dec2prd_bev(df):\n",
    "    df.loc[df[\"dec_bev\"].str.contains(\"^sibling\"), \"dec_bev_prd\"] =  1\n",
    "    df.loc[df[\"dec_bev\"].str.contains(\"^non-sibling\"), \"dec_bev_prd\"] =  0\n",
    "    return  # df is changed in place so no returning necessary\n",
    "\n",
    "def mix_sib_nonsib(sib, nonsib, mode, rs=42):\n",
    "    if mode == \"equal\":\n",
    "        nonsibint = nonsib.sample(n=len(sib), replace=True, weights=None, random_state=rs)\n",
    "    else:\n",
    "        nonsibint = nonsib\n",
    "    datain = pd.concat([sib,nonsibint])\n",
    "    #print(\"merged shape: {}\".format(datain.shape))\n",
    "    #print(\"columns: {}\".format(list(datain.columns.values)))\n",
    "    return datain\n",
    "\n",
    "\n",
    "def get_ouralgo_stats(sib, nonsib):\n",
    "    #print(\"Our algo stats:\")\n",
    "    df = mix_sib_nonsib(sib, nonsib, \"full\", 42)\n",
    "    df_ours = df[[\"label\", \"decision\"]].copy()\n",
    "    #print(df_ours[df_ours.isnull().any(axis=1)])\n",
    "    dec2prd_ours(df_ours)\n",
    "    undec = len(df_ours[df_ours.isnull().any(axis=1)])\n",
    "    print(\"Our algo: Not deciding on {} pairs for unknown/error reasons.\".format(undec))\n",
    "    df_ours = df_ours.dropna()\n",
    "    print(\"Our algo stats: ({}) undecided\".format(undec))\n",
    "    return stats(df_ours[\"label\"], df_ours[\"dec_prd\"])\n",
    "\n",
    "def get_bev_stats(sib, nonsib):\n",
    "    #print(\"Beverly algo stats:\")\n",
    "    df = mix_sib_nonsib(sib, nonsib, \"full\", 42)\n",
    "    #print(df[df.isnull().any(axis=1)])\n",
    "    df_tmp = df[[\"label\", \"dec_bev\"]].copy()\n",
    "    dec_nan = len(df_tmp[df_tmp[\"dec_bev\"].isnull() == True])\n",
    "    df_tmp = df_tmp[df_tmp[\"dec_bev\"].isnull() == False]\n",
    "    dec2prd_bev(df_tmp)\n",
    "    undec = len(df_tmp[df_tmp.isnull().any(axis=1)])\n",
    "    df_tmp = df_tmp.dropna()\n",
    "    print(\"Beverly algo: Not deciding on {} pairs for NaN and {} pairs for unknown/error reasons.\".format(dec_nan, undec))\n",
    "    print(\"Beverly algo stats: ({}) undecided\".format(undec))\n",
    "    return stats(df_tmp[\"label\"], df_tmp[\"dec_bev_prd\"])\n",
    "    \n",
    "\n",
    "def match_nonsibs_slow(sib, nonsib, rs=42):\n",
    "    ctr = 0 \n",
    "    for i, ii in sib.iterrows():\n",
    "        for j, jj in sib.iterrows():\n",
    "            if ii[1] != jj[1]:\n",
    "                nscand = ii[1] + \"_+_\" +  jj[1]\n",
    "                #print(nscand)\n",
    "                ctr += 1 \n",
    "                #if not (nonsib[\"domain\"] == nscand).any():\n",
    "                #   print(\"fail for {}\".format(nscand))\n",
    "                #  return\n",
    "        #print(ctr)\n",
    "    return\n",
    "                \n",
    "def match_nonsibs(sib, nonsib, rs=42):\n",
    "    ctr = 0 \n",
    "    a = []\n",
    "    sd = dict() # siblings dict\n",
    "    nsd = dict()  # non siblings dict\n",
    "    for i in sib.itertuples():\n",
    "        sd[i[0]] = 0\n",
    "    for i in nonsib.itertuples():\n",
    "        nsd[i[0]] = 0\n",
    "    nscand = dict()\n",
    "    #nstmp = pandas.DataFrame()\n",
    "    for i in sd.keys():\n",
    "        for j in sd.keys():\n",
    "            if i != j:\n",
    "                nscandstr = i + \"_+_\" +  j\n",
    "                nscand[nscandstr] = 1\n",
    "    print(\"Generated {} non-sibling candidates from {} siblings.\".format(len(nscand), len(sib)))\n",
    "    fails = []\n",
    "    for k1 in nsd.keys():\n",
    "        if k1 not in nscand.keys():\n",
    "            fails.append(k1)\n",
    "            #print(\"fail! {} \".format(i))    \n",
    "    nsfiltered = nonsib.copy()\n",
    "    nsfiltered.drop(fails, inplace=True)\n",
    "    return nsfiltered\n",
    "\n",
    "def assign_groups_old(datain):\n",
    "    datain[\"group\"] = \"servers\"\n",
    "    datain.loc[datain[\"domain\"].str.contains(\"nlnog.net\"), \"group\"] = \"nlnog\"\n",
    "    datain.loc[datain[\"domain\"].str.contains(\"RA_\"), \"group\"] = \"RA\"\n",
    "    datain.loc[datain[\"domain\"].str.extract(\"RA_([0-9]{4})\") < 6019, \"group\"] = \"RAv1\"\n",
    "    datain.loc[datain[\"domain\"].str.extract(\"RA_([0-9]{4})\") > 6018, \"group\"] = \"RAv2\"\n",
    "    return\n",
    "    #groups = datain[\"group\"].as_matrix()\n",
    "    #del datain[\"group\"]\n",
    "    #return groups\n",
    "\n",
    "def assign_groups(datain):\n",
    "    datain[\"group\"] = \"servers\"\n",
    "    #sib.loc[sib.index.str.contains(\"nlnog.net\"), \"group\"] = \"nlnog\"\n",
    "    datain.loc[datain.index.str.contains(\"nlnog.net\"), \"group\"] = \"nlnog\"\n",
    "    datain.loc[datain.index.str.contains(\"RA_\"), \"group\"] = \"RA\"\n",
    "    datain[\"ra_id\"] = datain.index.str.extract(\"RA_([0-9]{4})\", expand=False).astype(float).fillna(0).astype(int) \n",
    "    #datain.index.str.extract(\"RA_([0-9]{4})\", expand=False).astype(float).fillna(0).astype(int) > 6018\n",
    "    datain.loc[(datain.ra_id > 5999) & (datain.ra_id < 6019), \"group\"] = \"RAv1\"\n",
    "    datain.loc[datain.ra_id > 6018, \"group\"] = \"RAv2\"    \n",
    "    #datain.loc[datain.index.str.extract(\"RA_([0-9]{4})\", expand=False) > 6018, \"group\"] = \"RAv2\"\n",
    "    groups = datain[\"group\"].as_matrix()\n",
    "    return groups\n",
    "    \n",
    "    \n",
    "def prune_datain(datain):\n",
    "    errorc = len(datain[datain[\"decision\"].str.contains(\"ERROR|error\") == True])\n",
    "    print(\"Removing {} errors values from datain.\".format(errorc))\n",
    "    datain = datain[datain[\"decision\"].str.contains(\"ERROR|error\") == False]\n",
    "\n",
    "    hzdiffc = len(datain[datain[\"hzdiff\"] != 0])\n",
    "    print(\"Deciding {} hzdiff hosts as non-sib, stats:\".format(hzdiffc))\n",
    "    lbl = datain[datain[\"hzdiff\"] != 0][\"label\"]\n",
    "    prd = lbl.copy()\n",
    "    prd[:] = 0\n",
    "    dataout = datain[datain[\"hzdiff\"] == 0]\n",
    "    #  datain = datain[datain[\"domain\"].str.contains(\"nlnog.net\") == True]\n",
    "    return dataout, lbl, prd\n",
    "\n",
    "def prune_data_for_ml(datain):\n",
    "    # just kick hzdiff out\n",
    "    # problem: NaNs might be in non-feature columns such as RA_ID\n",
    "    erridx = datain[datain.decision.str.contains(\"ERROR|error\") == True].index\n",
    "    labels, features = make_labels_features(datain)\n",
    "    naidx = datain[features.isnull().any(axis=1) == True].index\n",
    "    bothidx = erridx | naidx\n",
    "    dataout = datain.drop(bothidx)\n",
    "    #dataout = dataout[dataout.decision.str.contains(\"ERROR|error\") == False]\n",
    "    # TODO: should also calculcate stats on this!\n",
    "    lbl = datain.loc[bothidx, \"label\"]\n",
    "    prd = lbl.copy()\n",
    "    prd[:] = 0\n",
    "    stats(lbl,prd)    \n",
    "    print(\"Removing {} rows with error results and {} rows with NaNs (typically hz different) from a \\\n",
    "    total of {} entries, resulting in {} entries.\".format(\n",
    "            len(erridx), len(naidx), len(datain), len(dataout)))\n",
    "    return dataout, lbl, prd\n",
    "\n",
    "\n",
    "def stats(lbl, prd):\n",
    "        tp = np.sum((lbl == 1) & (prd == 1)) \n",
    "        fp = np.sum(lbl < prd ) \n",
    "        tn = np.sum((lbl == 0) & (prd == 0)) \n",
    "        fn = np.sum(lbl > prd ) \n",
    "        try:\n",
    "            prec =  round(100*tp/(tp+fp),2) # TPR?\n",
    "            recall = round(100*tp/(tp+fn),2) \n",
    "            spec= round(100*tn/(tn+fp),2) # TNR?\n",
    "            acc = round(100*(tn+tp)/(tn+fn+fp+tp),2)\n",
    "        except ZeroDivisionError as e:\n",
    "            print(\"Catching ZeroDivisionError at stats!\")\n",
    "            prec = 0\n",
    "            recall = 0\n",
    "            spec = 0\n",
    "            acc = 0\n",
    "        print(\"Correct: {}, incorrect {}, TP {}, FP {}, TN {}, FN{}, Prec. {}, Rec. {}, Spec. {}, Acc. {}%\".format(\n",
    "        np.sum(lbl == prd),\n",
    "        np.sum(lbl != prd),\n",
    "        tp, fp, tn, fn, \n",
    "        prec, recall, spec, acc\n",
    "        ))\n",
    "        return prec, recall, spec, acc\n",
    "        \n",
    "def make_labels_features(dfin):\n",
    "    labels = dfin[\"label\"]\n",
    "    features = dfin[[\"hzdiff\", \"hzr2diff\", \"timestamps_diff\", \"adiff\", \n",
    "                        \"theta\", \"r2diff\", \"ott_rng_diff_rel\", \"optsdiff\",\n",
    "                       \"perc_85_val\"]].copy()\n",
    "    features[\"hzr2mean\"] = (dfin[\"hz4r2\"] + dfin[\"hz6r2\"])  / 2.0\n",
    "    features[\"r2mean\"] = (dfin[\"r4_sqr\"] + dfin[\"r6_sqr\"]) / 2.0     \n",
    "    features[\"ott_rng_mean\"] = (dfin[\"ott4_rng\"] + dfin[\"ott6_rng\"]) / 2.0\n",
    "    features[\"splinediff_scaled\"] = dfin[\"perc_85_val\"] / features[\"ott_rng_mean\"]\n",
    "    return labels, features   \n",
    "\n",
    "def get_sample_weight(sib, nonsib):\n",
    "    # WIP TODO\n",
    "    #siblings = len(dfin[dfin[\"label\"] == 1])\n",
    "    #nonsiblings = len(datain[datain[\"label\"] == 0])\n",
    "    sl = len(sib)\n",
    "    nsl = len(nonsib)\n",
    "    tl = sl + nsl\n",
    "    nsw = sl / tl\n",
    "    sw = nsl / tl\n",
    "    print(\"Found {} sibs and {} nonsibs, weights: {} and {}\".format(sl, nsl, sw, nsw))\n",
    "    weight = np.zeros(len(datain))\n",
    "    weight = np.float32(datain[\"label\"].as_matrix())\n",
    "    weight[weight == 1] = sw\n",
    "    weight[weight == 0] = nsw\n",
    "    \n",
    "    \n",
    "def get_sample_weight_one_input(dfin):\n",
    "    sl = len(dfin[dfin[\"label\"] == 1])\n",
    "    nsl = len(dfin[dfin[\"label\"] == 0])\n",
    "    tl = sl + nsl\n",
    "    nsw = sl / tl\n",
    "    sw = nsl / tl\n",
    "    weight = np.zeros(len(dfin))\n",
    "    weight = np.float32(dfin[\"label\"].as_matrix())\n",
    "    weight[weight == 1] = sw\n",
    "    weight[weight == 0] = nsw\n",
    "    print(\"Found {} sibs and {} nonsibs, weights: {} and {}, #weights: {}\".format(\n",
    "        sl, nsl, round(sw,4), round(nsw,4), len(weight)))\n",
    "    return weight\n",
    "\n",
    "\n",
    "# functions for ML with proprtional group sampling\n",
    "def split_stratified_groups(sib, splits, nr):\n",
    "    from sklearn.model_selection import KFold # non-overlapping!\n",
    "    groups = assign_groups(sib)\n",
    "    groupset = set(groups)\n",
    "    gsibdf_train = pd.DataFrame(columns=sib.columns)\n",
    "    gsibdf_test = pd.DataFrame(columns=sib.columns)\n",
    "    for i in groupset:\n",
    "        groupsib = sib[sib[\"group\"] == i].copy()\n",
    "        if len(groupsib ) < splits:\n",
    "            # can not split into more folds than files...\n",
    "            print(\"ERROR: more splits ({}) than samples ({}), reducing to sample nr\".format(splits, len(groupsib)))\n",
    "            splits = len(groupsib)\n",
    "        #print(\"## GROUP: {} with {} elements.\".format(i, len(groupsib)))\n",
    "        ks = KFold(n_splits=splits, random_state=42, shuffle=True)\n",
    "        labels, features = make_labels_features(groupsib)\n",
    "        ctr = -1\n",
    "        for train_index, test_index in ks.split(groupsib):\n",
    "            ctr += 1                \n",
    "            if (ctr == nr):\n",
    "            #print(\"TRAIN:\", train_index, \"TEST:\", test_index)\n",
    "                gsibdf_train = gsibdf_train.append(groupsib.iloc[train_index])\n",
    "                gsibdf_test = gsibdf_test.append(groupsib.iloc[test_index])\n",
    "                break\n",
    "    return [gsibdf_train, gsibdf_test]\n",
    "\n",
    "\n",
    "def dt_train(labels, features, weight, rs=42):\n",
    "    estimator = DecisionTreeClassifier(max_depth=30, min_samples_leaf=5, random_state=42)\n",
    "    est = estimator.fit(features, labels, sample_weight=weight)\n",
    "    return est\n",
    "\n",
    "def kfold_train_test(sib, nonsib):\n",
    "    kfolds = 10\n",
    "    stats_train_error = np.empty((10,4), dtype=float)\n",
    "    stats_test_error = np.empty((10,4), dtype=float)\n",
    "    graphs = []\n",
    "    for i in range(10):\n",
    "        print(\"Round {}\".format(i))\n",
    "        # pick proportionally from each group\n",
    "        train_sib, test_sib = split_stratified_groups(sib, 10, i)\n",
    "        # create, select, and mix matching nonsibs\n",
    "        train_nonsib = match_nonsibs(train_sib, nonsib)\n",
    "        test_nonsib = match_nonsibs(test_sib, nonsib)\n",
    "        train = mix_sib_nonsib(train_sib,train_nonsib, \"all\")\n",
    "        # prune NaNs out\n",
    "        train, train_prune_lbl, train_prune_prd = prune_data_for_ml(train)\n",
    "        test = mix_sib_nonsib(test_sib,test_nonsib, \"all\")\n",
    "        test, test_prune_lbl, test_prune_prd = prune_data_for_ml(test)\n",
    "        # split out features, labels, and weights\n",
    "        train_lbl, train_ftr = make_labels_features(train)\n",
    "        test_lbl, test_ftr = make_labels_features(test)\n",
    "        train_weight = get_sample_weight_one_input(train)\n",
    "        test_weight = get_sample_weight_one_input(test)\n",
    "        # train estimator\n",
    "        est = dt_train(train_lbl, train_ftr, train_weight)   \n",
    "        stats_train_error[i] = stats(train_lbl, est.predict(train_ftr))\n",
    "        stats_test_error[i]  =  stats(test_lbl, est.predict(test_ftr))\n",
    "        graph = dt_plot(est, train_ftr)\n",
    "        graphs.append(graph)\n",
    "        #Image(graph.create_png())  \n",
    "    return stats_train_error, stats_test_error, graphs"
   ]
  },
  {
   "cell_type": "markdown",
   "metadata": {},
   "source": [
    "# Iterate through large-scale measurement files..."
   ]
  },
  {
   "cell_type": "code",
   "execution_count": 138,
   "metadata": {},
   "outputs": [],
   "source": [
    "def get_ls_files(folder):\n",
    "    ls = pandas.DataFrame()\n",
    "    import glob\n",
    "    ctr=0\n",
    "    for filename in glob.glob(folder+\"ls_candidates.csv*siblings-filtered.uniqpairs.ips.*sibling-measurement-*.pcap.ts.siblingresult.csv\"):\n",
    "        ctr += 1\n",
    "        #print(filename)\n",
    "        ls = ls.append(pd.read_csv(filename, index_col=0, usecols=[\"domain\", \"ip4\", \"ip6\", \"hz6r2\", \"hz4r2\", \"optsdiff\", \"hzdiff\", \"timestamps_diff\", \"dec_bev\", \"decision\"]))\n",
    "    print(\"Read {} decisions from {} files.\".format(len(ls), ctr))\n",
    "    return ls\n",
    "\n",
    "\n",
    "def decision_ml1(row):\n",
    "    tsd_thresh = 0.2557  # learned from ML DT\n",
    "    if row.decision == \"ERROR: too small clock hertz r-squares\":\n",
    "        return row.decision\n",
    "    if row.optsdiff > 0:\n",
    "        return \"non-sibling(optsdiff)\"\n",
    "    elif row.hzdiff > 0:\n",
    "        return \"non-sibling(hzdiff)\"\n",
    "    elif row.timestamps_diff <= tsd_thresh:\n",
    "        return \"sibling(tsdiff)\"\n",
    "    elif row.timestamps_diff > tsd_thresh:\n",
    "        return \"non-sibling(tsdiff)\"\n",
    "    elif \"ERROR\" in row.decision or \"error in row.decision\":\n",
    "        return row.decision\n",
    "    else:\n",
    "        return \"unknown!\"\n",
    "    \n",
    "    \n",
    "def fix_dec_bev(row):\n",
    "    if isinstance(row.dec_bev, str):\n",
    "        return row.dec_bev\n",
    "    if np.isnan(row.dec_bev):\n",
    "        if \"ERROR\" in row.decision or \"error\" in row.decision:\n",
    "            return row.decision\n",
    "    else:\n",
    "        return dec_bev    "
   ]
  },
  {
   "cell_type": "code",
   "execution_count": 4,
   "metadata": {},
   "outputs": [
    {
     "name": "stdout",
     "output_type": "stream",
     "text": [
      "Read 1891748 decisions from 37 files.\n"
     ]
    }
   ],
   "source": [
    "ls = get_ls_files(\"/srv/scheitle-2016-siblings/ls/\")"
   ]
  },
  {
   "cell_type": "code",
   "execution_count": 85,
   "metadata": {},
   "outputs": [],
   "source": [
    "ls.dec_ml1 = ls.apply(lambda row: decision_ml1 (row),axis=1)"
   ]
  },
  {
   "cell_type": "code",
   "execution_count": 77,
   "metadata": {},
   "outputs": [],
   "source": [
    "ls.dec_bev_fixed = ls.apply(lambda row: fix_dec_bev (row),axis=1)"
   ]
  },
  {
   "cell_type": "code",
   "execution_count": 78,
   "metadata": {},
   "outputs": [
    {
     "data": {
      "text/plain": [
       "Counter({'ERROR: clock <1hz': 108,\n",
       "         'ERROR: too small clock hertz r-squares': 201375,\n",
       "         'non-sibling(hzdiff)': 3855,\n",
       "         'non-sibling(optsdiff)': 50156,\n",
       "         'non-sibling(tsdiff)': 733911,\n",
       "         'sibling(tsdiff)': 902343})"
      ]
     },
     "execution_count": 78,
     "metadata": {},
     "output_type": "execute_result"
    }
   ],
   "source": [
    "from collections import Counter\n",
    "Counter(ls.dec_ml1.as_matrix())"
   ]
  },
  {
   "cell_type": "code",
   "execution_count": 79,
   "metadata": {},
   "outputs": [
    {
     "data": {
      "text/plain": [
       "Counter({'ERROR: binEqual calculation failed!': 44,\n",
       "         'ERROR: clock <1hz': 117,\n",
       "         'ERROR: den_arr6 empty!': 18042,\n",
       "         'ERROR: spline calculation failed!': 520,\n",
       "         'ERROR: too small clock hertz r-squares': 242328,\n",
       "         'error_percval!': 6,\n",
       "         'no skew(unknown)': 25153,\n",
       "         'non-sibling (hz different)': 3888,\n",
       "         'non-sibling(big rsqr deviation)': 336,\n",
       "         'non-sibling(one negligible and ott diff delta too large)': 13944,\n",
       "         'non-sibling(optsdiff)': 9149,\n",
       "         'non-sibling(spline test)': 1385,\n",
       "         'non-sibling(spline test)bigrng': 228133,\n",
       "         'non-sibling(tsdiff)': 698016,\n",
       "         'sibling(spline test)': 247084,\n",
       "         'sibling(spline test)bigrng': 62721,\n",
       "         'sibling(valid slope/small slope diff)': 150634,\n",
       "         'unknown(spline guard interval)': 190248})"
      ]
     },
     "execution_count": 79,
     "metadata": {},
     "output_type": "execute_result"
    }
   ],
   "source": [
    "Counter(ls.decision.as_matrix())"
   ]
  },
  {
   "cell_type": "code",
   "execution_count": 80,
   "metadata": {},
   "outputs": [
    {
     "data": {
      "text/plain": [
       "Counter({'ERROR: binEqual calculation failed!': 44,\n",
       "         'ERROR: clock <1hz': 117,\n",
       "         'ERROR: spline calculation failed!': 520,\n",
       "         'ERROR: too small clock hertz r-squares': 242328,\n",
       "         'error: den_arr6 empty!': 18042,\n",
       "         'error_percval!': 6,\n",
       "         'non-sibling (hz different)': 3888,\n",
       "         'non-sibling(optsdiff)': 9149,\n",
       "         'sibling(tau)': 1617654})"
      ]
     },
     "execution_count": 80,
     "metadata": {},
     "output_type": "execute_result"
    }
   ],
   "source": [
    "Counter(ls.dec_bev_fixed.as_matrix())"
   ]
  },
  {
   "cell_type": "markdown",
   "metadata": {},
   "source": [
    "# Convert to candidate pairs"
   ]
  },
  {
   "cell_type": "code",
   "execution_count": 93,
   "metadata": {
    "collapsed": true
   },
   "outputs": [],
   "source": [
    "ls[\"ip4ip6\"] = ls.ip4+ls.ip6\n",
    "lscp = ls.drop_duplicates(subset=[\"ip4ip6\"])\n",
    "lscp"
   ]
  },
  {
   "cell_type": "code",
   "execution_count": 139,
   "metadata": {},
   "outputs": [],
   "source": [
    "lscp.dec_ml1 = lscp.apply(lambda row: decision_ml1 (row),axis=1)"
   ]
  },
  {
   "cell_type": "code",
   "execution_count": 103,
   "metadata": {},
   "outputs": [],
   "source": [
    "lscp.dec_bev_fixed = lscp.apply(lambda row: fix_dec_bev (row),axis=1)"
   ]
  },
  {
   "cell_type": "code",
   "execution_count": null,
   "metadata": {
    "collapsed": true
   },
   "outputs": [],
   "source": []
  },
  {
   "cell_type": "code",
   "execution_count": 118,
   "metadata": {
    "collapsed": true
   },
   "outputs": [
    {
     "data": {
      "text/plain": [
       "Counter({'ERROR: binEqual calculation failed!': 18,\n",
       "         'ERROR: clock <1hz': 81,\n",
       "         'ERROR: den_arr6 empty!': 1229,\n",
       "         'ERROR: spline calculation failed!': 198,\n",
       "         'ERROR: too small clock hertz r-squares': 143012,\n",
       "         'error_percval!': 3,\n",
       "         'no skew(unknown)': 3109,\n",
       "         'non-sibling (hz different)': 928,\n",
       "         'non-sibling(big rsqr deviation)': 124,\n",
       "         'non-sibling(one negligible and ott diff delta too large)': 632,\n",
       "         'non-sibling(optsdiff)': 3153,\n",
       "         'non-sibling(spline test)': 406,\n",
       "         'non-sibling(spline test)bigrng': 67332,\n",
       "         'non-sibling(tsdiff)': 53074,\n",
       "         'sibling(spline test)': 19869,\n",
       "         'sibling(spline test)bigrng': 13403,\n",
       "         'sibling(valid slope/small slope diff)': 24240,\n",
       "         'unknown(spline guard interval)': 21183})"
      ]
     },
     "execution_count": 118,
     "metadata": {},
     "output_type": "execute_result"
    }
   ],
   "source": [
    "Counter(lscp.decision.as_matrix())"
   ]
  },
  {
   "cell_type": "code",
   "execution_count": 141,
   "metadata": {
    "scrolled": true
   },
   "outputs": [
    {
     "name": "stdout",
     "output_type": "stream",
     "text": [
      "our algo: 351994 decision, 57512 sibling, 125649 non-sibling, 168833 unknown\n"
     ]
    }
   ],
   "source": [
    "sib = np.count_nonzero(lscp.decision.str.contains(\"^sibling\") == True)\n",
    "nonsib = np.count_nonzero(lscp.decision.str.contains(\"^non-sibling\") == True)\n",
    "c = len(lscp)\n",
    "print(\"our algo: {} decision, {} sibling, {} non-sibling, {} unknown\".format(c, sib, nonsib, c-sib-nonsib))"
   ]
  },
  {
   "cell_type": "code",
   "execution_count": 142,
   "metadata": {},
   "outputs": [
    {
     "name": "stdout",
     "output_type": "stream",
     "text": [
      "bev algo: 351994 decision, 203372 sibling, 4081 non-sibling, 144541 unknown\n"
     ]
    }
   ],
   "source": [
    "sib = np.count_nonzero(lscp.dec_bev_fixed.str.contains(\"^sibling\") == True)\n",
    "nonsib = np.count_nonzero(lscp.dec_bev_fixed.str.contains(\"^non-sibling\") == True)\n",
    "c = len(lscp)\n",
    "print(\"bev algo: {} decision, {} sibling, {} non-sibling, {} unknown\".format(c, sib, nonsib, c-sib-nonsib))"
   ]
  },
  {
   "cell_type": "code",
   "execution_count": 143,
   "metadata": {},
   "outputs": [
    {
     "name": "stdout",
     "output_type": "stream",
     "text": [
      "ml1 algo: 351994 decision, 149215 sibling, 59692 non-sibling, 143087 unknown\n"
     ]
    }
   ],
   "source": [
    "sib = np.count_nonzero(lscp.dec_ml1.str.contains(\"^sibling\") == True)\n",
    "nonsib = np.count_nonzero(lscp.dec_ml1.str.contains(\"^non-sibling\") == True)\n",
    "c = len(lscp)\n",
    "print(\"ml1 algo: {} decision, {} sibling, {} non-sibling, {} unknown\".format(c, sib, nonsib, c-sib-nonsib))"
   ]
  },
  {
   "cell_type": "code",
   "execution_count": 125,
   "metadata": {},
   "outputs": [
    {
     "name": "stdout",
     "output_type": "stream",
     "text": [
      "our algo: 351994 decision, 57512 sibling, 125649 non-sibling, 168833 unknown\n"
     ]
    }
   ],
   "source": []
  },
  {
   "cell_type": "code",
   "execution_count": 135,
   "metadata": {},
   "outputs": [
    {
     "data": {
      "text/plain": [
       "Counter({'ERROR: binEqual calculation failed!': 18,\n",
       "         'ERROR: clock <1hz': 81,\n",
       "         'ERROR: spline calculation failed!': 198,\n",
       "         'ERROR: too small clock hertz r-squares': 143012,\n",
       "         'error: den_arr6 empty!': 1229,\n",
       "         'error_percval!': 3,\n",
       "         'non-sibling (hz different)': 928,\n",
       "         'non-sibling(optsdiff)': 3153,\n",
       "         'sibling(tau)': 203372})"
      ]
     },
     "execution_count": 135,
     "metadata": {},
     "output_type": "execute_result"
    }
   ],
   "source": [
    "Counter(lscp.dec_bev_fixed.as_matrix())"
   ]
  },
  {
   "cell_type": "code",
   "execution_count": 140,
   "metadata": {},
   "outputs": [
    {
     "data": {
      "text/plain": [
       "Counter({'ERROR: clock <1hz': 75,\n",
       "         'ERROR: too small clock hertz r-squares': 143012,\n",
       "         'non-sibling(hzdiff)': 921,\n",
       "         'non-sibling(optsdiff)': 3172,\n",
       "         'non-sibling(tsdiff)': 55599,\n",
       "         'sibling(tsdiff)': 149215})"
      ]
     },
     "execution_count": 140,
     "metadata": {},
     "output_type": "execute_result"
    }
   ],
   "source": [
    "Counter(lscp.dec_ml1.as_matrix())"
   ]
  },
  {
   "cell_type": "code",
   "execution_count": 137,
   "metadata": {},
   "outputs": [
    {
     "data": {
      "text/plain": [
       "Counter({'ERROR: binEqual calculation failed!': 18,\n",
       "         'ERROR: clock <1hz': 81,\n",
       "         'ERROR: den_arr6 empty!': 1229,\n",
       "         'ERROR: spline calculation failed!': 198,\n",
       "         'ERROR: too small clock hertz r-squares': 143012,\n",
       "         'error_percval!': 3,\n",
       "         'no skew(unknown)': 3109,\n",
       "         'non-sibling (hz different)': 928,\n",
       "         'non-sibling(big rsqr deviation)': 124,\n",
       "         'non-sibling(one negligible and ott diff delta too large)': 632,\n",
       "         'non-sibling(optsdiff)': 3153,\n",
       "         'non-sibling(spline test)': 406,\n",
       "         'non-sibling(spline test)bigrng': 67332,\n",
       "         'non-sibling(tsdiff)': 53074,\n",
       "         'sibling(spline test)': 19869,\n",
       "         'sibling(spline test)bigrng': 13403,\n",
       "         'sibling(valid slope/small slope diff)': 24240,\n",
       "         'unknown(spline guard interval)': 21183})"
      ]
     },
     "execution_count": 137,
     "metadata": {},
     "output_type": "execute_result"
    }
   ],
   "source": [
    "Counter(lscp.decision.as_matrix())"
   ]
  },
  {
   "cell_type": "code",
   "execution_count": 184,
   "metadata": {
    "scrolled": true
   },
   "outputs": [
    {
     "data": {
      "text/plain": [
       "Counter({False: 295222, True: 56772})"
      ]
     },
     "execution_count": 184,
     "metadata": {},
     "output_type": "execute_result"
    }
   ],
   "source": [
    "# ht + ml1 intersection\n",
    "a = (lscp.decision.str.contains(\"^sibling\") & lscp.dec_ml1.str.contains(\"^sibling\") == True)\n",
    "#sib = np.count_nonzero(lscp.decision.str.contains(\"^sibling\") == True)\n",
    "#np.count_nonzero(a.as_matrix())\n",
    "Counter(a.as_matrix())"
   ]
  },
  {
   "cell_type": "code",
   "execution_count": 168,
   "metadata": {},
   "outputs": [],
   "source": [
    "b = a.as_matrix()"
   ]
  },
  {
   "cell_type": "code",
   "execution_count": 169,
   "metadata": {},
   "outputs": [
    {
     "data": {
      "text/plain": [
       "False"
      ]
     },
     "execution_count": 169,
     "metadata": {},
     "output_type": "execute_result"
    }
   ],
   "source": [
    "b[1]"
   ]
  },
  {
   "cell_type": "code",
   "execution_count": 175,
   "metadata": {
    "collapsed": true
   },
   "outputs": [],
   "source": [
    "del np"
   ]
  }
 ],
 "metadata": {
  "kernelspec": {
   "display_name": "Python 3",
   "language": "python",
   "name": "python3"
  },
  "language_info": {
   "codemirror_mode": {
    "name": "ipython",
    "version": 3
   },
   "file_extension": ".py",
   "mimetype": "text/x-python",
   "name": "python",
   "nbconvert_exporter": "python",
   "pygments_lexer": "ipython3",
   "version": "3.6.1"
  }
 },
 "nbformat": 4,
 "nbformat_minor": 2
}
